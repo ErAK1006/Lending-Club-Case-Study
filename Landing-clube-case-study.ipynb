## import libraries
import numpy as np
import pandas as pd
import matplotlib.pyplot as plt
import seaborn as sns
import warnings
warnings.filterwarnings('ignore')

#reading the data
loan_data = pd.read_csv("loan.csv")

loan_data.head()

loan_data.shape

loan_data.isnull().sum()

missing_percent = (loan_data.isnull().sum()/len(loan_data))*100
missing_percent

#deleting columns having more than 50% missing values
missing_values = loan_data.columns[loan_data.isnull().sum()/len(loan_data)*100 >50]
missing_values

loan_data = loan_data.drop(missing_values, axis=1)

loan_data

#checking missing values again 
missing_values=(loan_data.isnull().sum()/len(loan_data))*100
missing_values[missing_values >0]

## deleting desc col as it is very similar to the purpose columns
loan_data.drop('desc', axis = 1, inplace = True)

loan_data.shape

loan_data.columns